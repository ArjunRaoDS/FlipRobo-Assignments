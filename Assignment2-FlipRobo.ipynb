{
 "cells": [
  {
   "cell_type": "markdown",
   "metadata": {},
   "source": [
    "**Assignment 2**\n",
    "A deep learning based Image classification model on 100 scrapped Images (for each category) from amazon for the below categories :\n",
    "\n",
    "1) Sarees  (women) (100 images)\n",
    "\n",
    "2) Tshirts (men) (100 images)\n",
    "\n",
    "3) Shirts (men) (100 images)"
   ]
  },
  {
   "cell_type": "code",
   "execution_count": 26,
   "metadata": {},
   "outputs": [],
   "source": [
    "import keras\n",
    "from keras.models import Sequential\n",
    "from keras.layers import Conv2D\n",
    "from keras.layers import MaxPooling2D\n",
    "from keras.layers import Flatten\n",
    "from keras.layers import Dense,Dropout,Activation"
   ]
  },
  {
   "cell_type": "code",
   "execution_count": 27,
   "metadata": {},
   "outputs": [
    {
     "name": "stdout",
     "output_type": "stream",
     "text": [
      "Requirement already satisfied: pillow in c:\\users\\arjun rao\\anaconda3\\envs\\tensorflow_environment\\lib\\site-packages (7.1.2)"
     ]
    }
   ],
   "source": [
    "!pip install pillow"
   ]
  },
  {
   "cell_type": "code",
   "execution_count": 34,
   "metadata": {},
   "outputs": [
    {
     "name": "stdout",
     "output_type": "stream",
     "text": [
      "Collecting matplotlib\n",
      "  Downloading matplotlib-3.2.2-cp36-cp36m-win_amd64.whl (9.2 MB)\n",
      "Requirement already satisfied: python-dateutil>=2.1 in c:\\users\\arjun rao\\anaconda3\\envs\\tensorflow_environment\\lib\\site-packages (from matplotlib) (2.8.1)\n",
      "Requirement already satisfied: numpy>=1.11 in c:\\users\\arjun rao\\anaconda3\\envs\\tensorflow_environment\\lib\\site-packages (from matplotlib) (1.18.5)\n",
      "Collecting kiwisolver>=1.0.1\n",
      "  Downloading kiwisolver-1.2.0-cp36-none-win_amd64.whl (57 kB)\n",
      "Requirement already satisfied: pyparsing!=2.0.4,!=2.1.2,!=2.1.6,>=2.0.1 in c:\\users\\arjun rao\\anaconda3\\envs\\tensorflow_environment\\lib\\site-packages (from matplotlib) (2.4.7)\n",
      "Collecting cycler>=0.10\n",
      "  Downloading cycler-0.10.0-py2.py3-none-any.whl (6.5 kB)\n",
      "Requirement already satisfied: six>=1.5 in c:\\users\\arjun rao\\anaconda3\\envs\\tensorflow_environment\\lib\\site-packages (from python-dateutil>=2.1->matplotlib) (1.15.0)\n",
      "Installing collected packages: kiwisolver, cycler, matplotlib\n",
      "Successfully installed cycler-0.10.0 kiwisolver-1.2.0 matplotlib-3.2.2\n"
     ]
    }
   ],
   "source": [
    "!pip install matplotlib"
   ]
  },
  {
   "cell_type": "code",
   "execution_count": 28,
   "metadata": {},
   "outputs": [
    {
     "name": "stdout",
     "output_type": "stream",
     "text": [
      "\n"
     ]
    }
   ],
   "source": [
    "import sys\n",
    "from PIL import Image\n",
    "sys.modules['Image'] = Image"
   ]
  },
  {
   "cell_type": "code",
   "execution_count": 29,
   "metadata": {},
   "outputs": [
    {
     "name": "stdout",
     "output_type": "stream",
     "text": [
      "Model: \"sequential_5\"\n",
      "_________________________________________________________________\n",
      "Layer (type)                 Output Shape              Param #   \n",
      "=================================================================\n",
      "conv2d_9 (Conv2D)            (None, 62, 62, 32)        896       \n",
      "_________________________________________________________________\n",
      "conv2d_10 (Conv2D)           (None, 60, 60, 32)        9248      \n",
      "_________________________________________________________________\n",
      "max_pooling2d_5 (MaxPooling2 (None, 30, 30, 32)        0         \n",
      "_________________________________________________________________\n",
      "dropout_4 (Dropout)          (None, 30, 30, 32)        0         \n",
      "_________________________________________________________________\n",
      "flatten_4 (Flatten)          (None, 28800)             0         \n",
      "_________________________________________________________________\n",
      "dense_7 (Dense)              (None, 128)               3686528   \n",
      "_________________________________________________________________\n",
      "dense_8 (Dense)              (None, 3)                 387       \n",
      "=================================================================\n",
      "Total params: 3,697,059\n",
      "Trainable params: 3,697,059\n",
      "Non-trainable params: 0\n",
      "_________________________________________________________________\n",
      "None\n"
     ]
    }
   ],
   "source": [
    "#Initialising CNN\n",
    "Model=Sequential()\n",
    "#1st layer\n",
    "Model.add(Conv2D(filters=32,kernel_size=(3,3),input_shape=(64,64,3),activation='relu'))\n",
    "\n",
    "#2nd layer\n",
    "Model.add(Conv2D(filters=32,kernel_size=(3,3),activation='relu'))\n",
    "Model.add(MaxPooling2D(pool_size=(2,2)))\n",
    "Model.add(Dropout(0.25))\n",
    "#Flattening layer\n",
    "Model.add(Flatten())\n",
    "#Full connection layer\n",
    "Model.add(Dense(units=128,activation='relu'))\n",
    "Model.add(Dense(units=3,activation='softmax'))\n",
    "#Compliing the CNN\n",
    "Model.compile(optimizer='adam',loss='categorical_crossentropy', metrics=['accuracy'])\n",
    "print(Model.summary())"
   ]
  },
  {
   "cell_type": "code",
   "execution_count": 30,
   "metadata": {},
   "outputs": [
    {
     "name": "stdout",
     "output_type": "stream",
     "text": [
      "Found 300 images belonging to 3 classes.\n"
     ]
    }
   ],
   "source": [
    "from keras.preprocessing.image import ImageDataGenerator\n",
    "\n",
    "train_gen=ImageDataGenerator(rescale=1./255,shear_range=0.2,zoom_range=0.2,horizontal_flip=True)\n",
    "training=train_gen.flow_from_directory('C:/Users/Arjun Rao/Desktop/Training',\n",
    "                                       target_size=(64,64),batch_size=20,class_mode='categorical')"
   ]
  },
  {
   "cell_type": "code",
   "execution_count": 31,
   "metadata": {},
   "outputs": [
    {
     "name": "stdout",
     "output_type": "stream",
     "text": [
      "Found 75 images belonging to 3 classes.\n"
     ]
    }
   ],
   "source": [
    "test_gen=ImageDataGenerator(rescale=1./255,shear_range=0.2,zoom_range=0.2,horizontal_flip=True)\n",
    "test=test_gen.flow_from_directory('C:/Users/Arjun Rao/Desktop/Test',\n",
    "                                  target_size=(64,64),batch_size=5,class_mode='categorical')"
   ]
  },
  {
   "cell_type": "code",
   "execution_count": 32,
   "metadata": {},
   "outputs": [
    {
     "name": "stdout",
     "output_type": "stream",
     "text": [
      "Epoch 1/8\n",
      "50/50 [==============================] - 67s 1s/step - loss: 1.0730 - accuracy: 0.5590 - val_loss: 0.8178 - val_accuracy: 0.7200\n",
      "Epoch 2/8\n",
      "50/50 [==============================] - 71s 1s/step - loss: 0.5351 - accuracy: 0.7700 - val_loss: 0.1888 - val_accuracy: 0.6533\n",
      "Epoch 3/8\n",
      "50/50 [==============================] - 67s 1s/step - loss: 0.4308 - accuracy: 0.8130 - val_loss: 0.5641 - val_accuracy: 0.8000\n",
      "Epoch 4/8\n",
      "50/50 [==============================] - 68s 1s/step - loss: 0.3440 - accuracy: 0.8640 - val_loss: 1.0082 - val_accuracy: 0.8133\n",
      "Epoch 5/8\n",
      "50/50 [==============================] - 68s 1s/step - loss: 0.2652 - accuracy: 0.8920 - val_loss: 0.1527 - val_accuracy: 0.8400\n",
      "Epoch 6/8\n",
      "50/50 [==============================] - 68s 1s/step - loss: 0.2287 - accuracy: 0.9000 - val_loss: 0.2155 - val_accuracy: 0.9200\n",
      "Epoch 7/8\n",
      "50/50 [==============================] - 68s 1s/step - loss: 0.1615 - accuracy: 0.9400 - val_loss: 0.2941 - val_accuracy: 0.9067\n",
      "Epoch 8/8\n",
      "50/50 [==============================] - 67s 1s/step - loss: 0.1309 - accuracy: 0.9560 - val_loss: 0.0147 - val_accuracy: 0.8800\n"
     ]
    }
   ],
   "source": [
    "History=Model.fit_generator(training,steps_per_epoch=50,epochs=8,validation_data=test,validation_steps=15)"
   ]
  },
  {
   "cell_type": "code",
   "execution_count": 43,
   "metadata": {},
   "outputs": [],
   "source": [
    "Model.save('Classifier')"
   ]
  },
  {
   "cell_type": "markdown",
   "metadata": {},
   "source": [
    "**Loss Plot**"
   ]
  },
  {
   "cell_type": "code",
   "execution_count": 37,
   "metadata": {},
   "outputs": [
    {
     "data": {
      "image/png": "[encoded data removed]",
      "text/plain": [
       "<Figure size 432x288 with 1 Axes>"
      ]
     },
     "metadata": {
      "needs_background": "light"
     },
     "output_type": "display_data"
    }
   ],
   "source": [
    "import matplotlib.pyplot as plt\n",
    "\n",
    "history_dict=History.history\n",
    "loss_values=history_dict['loss']\n",
    "val_loss_values=history_dict['val_loss']\n",
    "epochs=range(1,len(loss_values)+1)\n",
    "line1=plt.plot(epochs,val_loss_values, label='Validation/Test loss')\n",
    "line2=plt.plot(epochs,loss_values,label='Trainig Loss')\n",
    "plt.setp(line1,linewidth=2.0,marker='+',markersize=10.0)\n",
    "plt.setp(line1,linewidth=2.0,marker='4',markersize=10.0)\n",
    "plt.xlabel('Epochs')\n",
    "plt.ylabel('Loss')\n",
    "plt.grid(True)\n",
    "plt.legend()\n",
    "plt.show()"
   ]
  },
  {
   "cell_type": "markdown",
   "metadata": {},
   "source": [
    "**Accuracy Plot**"
   ]
  },
  {
   "cell_type": "code",
   "execution_count": 39,
   "metadata": {},
   "outputs": [
    {
     "data": {
      "image/png": "[encoded data removed]",
      "text/plain": [
       "<Figure size 432x288 with 1 Axes>"
      ]
     },
     "metadata": {
      "needs_background": "light"
     },
     "output_type": "display_data"
    }
   ],
   "source": [
    "acc_values=history_dict['accuracy']\n",
    "val_acc_values=history_dict['val_accuracy']\n",
    "epochs=range(1,len(loss_values)+1)\n",
    "line1=plt.plot(epochs,val_acc_values, label='Validation/Test accuracy')\n",
    "line2=plt.plot(epochs,acc_values,label='Trainig accuracy')\n",
    "plt.setp(line1,linewidth=2.0,marker='+',markersize=10.0)\n",
    "plt.setp(line1,linewidth=2.0,marker='4',markersize=10.0)\n",
    "plt.xlabel('Epochs')\n",
    "plt.ylabel('Accuracy')\n",
    "plt.grid(True)\n",
    "plt.legend()\n",
    "plt.show()"
   ]
  },
  {
   "cell_type": "code",
   "execution_count": 51,
   "metadata": {},
   "outputs": [
    {
     "name": "stdout",
     "output_type": "stream",
     "text": [
      "Saree\n"
     ]
    }
   ],
   "source": [
    "import numpy as np\n",
    "from keras.preprocessing import image\n",
    "test_image=image.load_img('C:/Users/Arjun Rao/Desktop/sa.jpg',target_size=(64,64))\n",
    "test_image=image.img_to_array(test_image)\n",
    "test_image=np.expand_dims(test_image, axis=0)\n",
    "result=Model.predict(test_image)\n",
    "training.class_indices\n",
    "if result[0][0]==1:\n",
    "    prediction=\"Saree\"\n",
    "elif result[0][1]==1:\n",
    "    prediction=\"Shirt\"\n",
    "else:\n",
    "    prediction=\"T-shirt\"\n",
    "print(prediction)    "
   ]
  },
  {
   "cell_type": "markdown",
   "metadata": {},
   "source": [
    "**Predictions are right by the model "
   ]
  },
  {
   "cell_type": "code",
   "execution_count": null,
   "metadata": {},
   "outputs": [],
   "source": []
  }
 ],
 "metadata": {
  "kernelspec": {
   "display_name": "Python 3",
   "language": "python",
   "name": "python3"
  },
  "language_info": {
   "codemirror_mode": {
    "name": "ipython",
    "version": 3
   },
   "file_extension": ".py",
   "mimetype": "text/x-python",
   "name": "python",
   "nbconvert_exporter": "python",
   "pygments_lexer": "ipython3",
   "version": "3.6.10"
  }
 },
 "nbformat": 4,
 "nbformat_minor": 4
}
