{
 "cells": [
  {
   "cell_type": "markdown",
   "metadata": {},
   "source": [
    "#Assignment- To fetch coronavirus data from twitter before it's outbreak and after outbreak and compare peoples emotion."
   ]
  },
  {
   "cell_type": "code",
   "execution_count": 23,
   "metadata": {},
   "outputs": [],
   "source": [
    "import string\n",
    "from collections import Counter\n",
    "import GetOldTweets3 as got\n",
    "import matplotlib.pyplot as pl\n",
    "from nltk.corpus import stopwords as stop_words"
   ]
  },
  {
   "cell_type": "code",
   "execution_count": 6,
   "metadata": {},
   "outputs": [],
   "source": [
    "def get_tweets(hashtag,date_from,date_till): \n",
    "    tweetCriteria = got.manager.TweetCriteria().setQuerySearch(hashtag) \\\n",
    "        .setSince(date_from) \\\n",
    "        .setUntil(date_till) \\\n",
    "        .setMaxTweets(100)\n",
    "    # Creation of list that contains all tweets\n",
    "    tweets = got.manager.TweetManager.getTweets(tweetCriteria)\n",
    "    # Creating list of chosen tweet data\n",
    "    text_tweets = [[tweet.text] for tweet in tweets]\n",
    "    return text_tweets"
   ]
  },
  {
   "cell_type": "markdown",
   "metadata": {},
   "source": [
    "# Getting Hashtags data before outbreak of Corona around the world in January 2020"
   ]
  },
  {
   "cell_type": "code",
   "execution_count": 7,
   "metadata": {},
   "outputs": [
    {
     "data": {
      "text/plain": [
       "[['Señores para qué #coronavirus en Colombia, si aún no hemos podido derrotar el virus llamado uribismo. '],\n",
       " [' Resmi açıklamaya göre ölü sayısı 170, vaka sayısı 7711. Vaka sayısı ve ölü sayısı parabolik olarak artıyor. #coronavirus'],\n",
       " ['Grants for epilepsy and multiple sclerosis research, what you need to know about #coronavirus and Australia Day honours – this week at @Alfred_Research http://bit.ly/38U4nVj'],\n",
       " ['I wonder when everyone will be concerned about the #coronavirus. ___ #PoetsAndRhymers'],\n",
       " ['#Update: The number of confirmed cases of novel #coronavirus rose to 7,711 in Chinese mainland as of Jan 29, including 170 deaths '],\n",
       " ['Joining many international airlines, @AirCanada suspends all flights to Beijing and Shanghai, with last flights out on January 30th. Safe travels, everyone. #coronavirus '],\n",
       " ['Se realiza estudio del genoma ARN del virus que es donde #coronavirus,muto y se aplica descarte del resto de virus conocidos, asumo que el de Guayaquil se logró cultivar en un agar de cepa conocido hasta el momento y el de Quito no.'],\n",
       " ['Gigil na gigil ang mga anti-Duterte at mga media na magkaroon ng confirmed nCov sa bansa para masisi nila ang gobyerno. Sigurado biglang susulpot ang mga mapagsamantalang politiko at mga bayarang blogger pag nangyari ito. #PrayforChina #CoronaVirus'],\n",
       " [\"It's already done that... Thank god you are here to keep everyone abreast of the latest #CoronaVirus news!!!\"],\n",
       " ['#CORONAVIRUS #MERCADODEGRANOS La incertidumbre por el coronavirus impacta sobre el mercado de granos https://bit.ly/2U9aG3g'],\n",
       " ['#CoronaVirus '],\n",
       " ['Can see why people using water bottles..expensive gear #coronavirus '],\n",
       " ['Wiki is correct: China reports 170 deaths from #2019nCoV. 7,711 cases of the virus confirmed in China, including 31 severe. 12,167 suspected cases. http://www.nhc.gov.cn/xcs/yqfkdt/202001/e71bd2e7a0824ca69f87bbf1bef2a3c9.shtml #coronavirus #2019nCoV #nCoV2019'],\n",
       " [\"#China #Wuhan #Health #Coronavirus --&gt; 'I'm in an apocalypse:' American student trapped in coronavirus-hit Chinese city | Article [AMP] | Reuters \"],\n",
       " ['Calling all #coronavirus bloggers! You are invited to submit articles or exchange links for the #dailycorona, my new blog where we discuss and make sense of the #2019nCoV news and data that keeps pouring in. https://dailycorona.weebly.com'],\n",
       " ['Amid the escalating headlines about the #coronavirus Tim Janes, Chair of the BCI, shares practical #pandemic response options for organizations. Follow the link to read more: https://bit.ly/2uEEcTA'],\n",
       " ['#HongKong govt refused to entirely seal the boarders with China, suspicious #Coronavirus patients flood into the city, with very limited medical resources, it’s jeopardising both immigration, hotels, frontline medical workers and even EMT’s lives. '],\n",
       " ['Executive Director of the World Health Organization started the pressy without the Director General, they have words later I wonder? #CoronaVirus'],\n",
       " ['Sube el número de victimas por el #Coronavirus: se reportan 169 personas muertas y 7,087 casos confirmados en #China.'],\n",
       " ['A no hasta ahí!!! #coronavirus #humor #pr https://www.instagram.com/p/B77D_bAhika/?igshid=zz5fynrlbhm2'],\n",
       " ['#Update: In total 7,711 confirmed cases of #novelcoronavirus have been reported in China as of Jan 29, with 170 deaths and 124 recovered. #WuhanAcuteRespiratorySyndrome #CoronaVirus #WuhanFlu #2019nCoV #nCoV2019 #nCoV'],\n",
       " ['A United Airlines flight from Beijing just arrived @Dulles_Airport. Amid #coronavirus concerns, United has said it will temporarily suspend daily direct flights between Dulles &amp; Beijing next week due to \"significant decline in demand for travel to China.\" #coronavirus '],\n",
       " [\"@TradingThomas3 Take the current run rate 7700 1/29 via the chart. I don't know how many Deaths to date? Assuming above 155? I will keep retweeting this everyday, till the predicted trend breaks. #Coronavirus #CoronavirusOutbreak\"],\n",
       " ['#29Ene #Coronavirus ha dejado ya 132 víctimas en China | \\u2066@EfectoCocuyo\\u2069 #Salud #Internacional'],\n",
       " ['#CoronaVirus '],\n",
       " ['https://www.youtube.com/watch?v=wXpfBKm5jxA #coronavirus le mücadele edilen şu günlerden tam 100 sene önce, çok daha büyük bir salgın yaşanmıştı...'],\n",
       " ['Neu 7711 Fälle, von 6061 gestern. #coronavirus '],\n",
       " ['God is dealing with them #Coronavirus'],\n",
       " ['A los Ingratos le cae primero el virus #coronavirus'],\n",
       " ['Coming up on your NL news to 4pm: - A buzz over a new business core announced for downtown #Kamloops - The @BCwildlifepark reaches a big milestone - Incorporating a town with 0 people \"regrettable,\" #bcgov says - The latest on #coronavirus Listen here: http://goo.gl/B296iV'],\n",
       " ['Sahabat Minfo! Awal tahun ini kita sudah mendengar terdapat virus baru yang menyerang saluran pernafasan yaitu 2019-nCov atau Novel Coronavirus. Yuk cari tahu gejala klinis yang ditimbulkan oleh virus ini pd grafis berikut ini. #ncov #coronavirus #viruscorona Grafis: Kemenkes RI'],\n",
       " ['Director General of the World Health Organization on #coronavirus: '],\n",
       " [\"Peter Piot @LSHTM: Novel #coronavirus a 'global health emergency' https://cnb.cx/2U16N06\"],\n",
       " ['A repatriation flight of Japanese citizens from #Wuhan has just landed at Tokyo Haneda (ANA All Nippon #NH1952, Boeing 767-300ER JA607A). https://airportwebcams.net/tokyo-haneda-airport-webcam-2/ #WuhanCoronavirus #coronavirus '],\n",
       " ['#germaphobe escalated at #coronavirus woman SNEEZED wetly in my face wanted2say Don’t you know to sneeze into your elbow! Heard kind voice behind me say “GBU” Putting me to shame Hope he doesn’t get sick opening his mouth to say a kind word as I run away holding breath '],\n",
       " ['#CoronaOutbreak #CoronaVirus #CoronaVirusKenya #CoronaVirusTibet'],\n",
       " ['#China में #Coronavirus से मरने वालों की तादाद 169 पहुंची http://zeesalaam.tv'],\n",
       " ['China confirms 132 deaths as #coronavirus spreads to multiple countries '],\n",
       " ['ASK FATHER: Suspension of Communion on the tongue because of #Coronavirus https://wdtprs.com/2020/01/ask-father-suspension-of-communion-on-the-tongue-because-of-coronavirus/'],\n",
       " ['people gonna learn to leave them exotic animals in the wild alone #coronavirus #notpets #notfood'],\n",
       " ['PANDEMIA MUNDIAL A CAUSA DE VIRUS #CORONAVIRUS.. A RAÍZ DEL AUMENTO DE CONTAGIADOS, MUERTOS Y LA EXPANSIÓN A NIVEL GLOBAL... LA #OMS CITÓ A REUNIÓN DE EMERGENCIA PARA MAÑANA JUEVES A SU VEZ ELEVO LA ALERTA MUNDIAL Y LLAMO A LOS PAÍSES A ACTUAR Y TOMAR MEDIDAS DE PREVENCIÓN..'],\n",
       " ['China National #Coronavirus update 1/29 https://flutrackers.com/forum/forum/-2019-ncov-new-coronavirus/china-2019-ncov/824791-china-2019ncov-cases-outbreak-news-and-information-week-5-january-26-february-1-2020?p=825959#post825959'],\n",
       " ['#coronavirus #Is #End #of #a #world'],\n",
       " ['Luego que si el #coronavirus.. Cocidisimo '],\n",
       " ['EVERY CHILD IN AMERICA NEEDS TO BE WEARING ONE OF THESE AT SCHOOL TO CONTAIN ANY SPREAD OF THE #CORONAVIRUS IN AMERICA!!! WAKE UP PARENTS...OUR CHILDREN ARE MORE IMPORTANT... JUST INCASE #coronaravirus #LEARNTOSPELL ITS CALLED #CORONAVIRUS '],\n",
       " [\"#coronavirus i'm still wondering why would they start building more hospitals yet everyone has this chill vibe that everything is alright and noone should be worried about anything, kinda contradictory imho, i guess thats why everyone is so confused &amp; #shocked, #pandemic or not?\"],\n",
       " [\"Check out this excellent piece by Grant Jacobs @BioinfoTools on R0: what it means &amp; what it does not tell us. Current estimates for #Wuhan #nCoV2019 #coronavirus R0 hover around mid 2's (2 to 3). Higher values = scare-mongering. https://sciblogs.co.nz/code-for-life/2020/01/29/the-coronavirus-outbreak-what-is-r0/ via @sciblogsnz #scicomm\"],\n",
       " [\"Huge China update: 7209 infected, 170 dead, 122 recovered. It's +1032 new cases from Hubei Provincial Health Committee. #calculla #coronavirus #coronavirusuk #2019nCoV more at https://calculla.com/coronavirus_2020\"],\n",
       " ['Chinese mall landlords offer rent-free periods to merchants as footfall decreases amid #Wuhancoronavirus outbreak About 80 property developers donate more than 1.2 billion yuan to fight against #coronavirus \\u2066@SCMPNews\\u2069'],\n",
       " ['WoW, such a disgraceful human being. I very much want to introduce him to the victims of the #coronavirus and their families. '],\n",
       " ['#29Ene #Coronavirus Período de incubación del coronavirus dura cinco días en promedio, dice estudio. - @AfpFactual http://u.afp.com/3oUt'],\n",
       " ['https://www.extremetech.com/internet/305449-johns-hopkins-tracks-coronavirus-outbreak-in-real-time #CoronaVirus #China'],\n",
       " ['How you get #coronavirus farted on, and other maladies.'],\n",
       " ['Many hospitals in #China have VIP clinics on top floors where expats and Party cadre are treated in gleaming, uncrowded clinics stocked w/ foreign equipment &amp; technology. I wonder if those units r being put to use in treating the common people during the #coronavirus crisis?'],\n",
       " ['For those of you diehard @CNBCi viewers - tune in tonight to Street Signs Asia at 8pmET to hear my thoughts on today’s earnings report, the #Fed, #coronavirus and more.'],\n",
       " ['Reality check. Air pollution & SUVs are far greater public health risk in #Canada than the #coronavirus. #FakeNews'],\n",
       " ['20:12 De WK indoor #atletiek in het Chinese #Nanjing gaan in maart niet door wegens de uitbraak van het #Wuhan #Coronavirus.'],\n",
       " ['#coronavirus '],\n",
       " ['#Tibet has confirmed first #coronavirus case #China'],\n",
       " ['CSIR: @healthgovau has released a fact sheet on the novel coronavirus for vocational education facilities. https://www.health.gov.au/resources/publications/novel-coronavirus-information-sheet-for-universities-and-vocational-education-facilities #JobsAustralia #MembersFirst #CoronaVirus #VocationalEducation #FactSheet'],\n",
       " ['El período de incubación del #coronavirus que apareció en Wuhan, China, está en el orden de los 5,2 días en promedio, aunque puede tener variaciones en función de cada paciente. Vía AFP '],\n",
       " [' #SISMOS, #FUGAS, #ASESINATOS, #CORONAVIRUS YA QUE NOS CARGUE LA CHINGADA DE UNA VEZ!'],\n",
       " ['Sobre o #coronavirus #2019nCoV: - letalidade 2% vs 9,6% SARS-CoV e 34% MERS-CoV - 2 casos suspeitos no #Brasil não foram confirmados. #influenza foi o diagnóstico. - 9 casos suspeitos ainda em investigação http://infecto.net/2019-ncov'],\n",
       " [' Los 195 estadounidenses que llegaron al país este miércoles permanecerán unos tres días en cuarentena aunque ninguno presenta síntomas de #coronavirus. '],\n",
       " ['El período de incubación del #coronavirus que apareció en Wuhan, China, está en el orden de los 5,2 días en promedio, aunque puede tener variaciones en función de cada paciente. Vía AFP '],\n",
       " ['#coronavirusuk #coronavirus Oh no, the longer they stay the more chance they have of getting infected. I bet they are terrified. What on earth is going on? https://www.independent.co.uk/news/health/coronavirus-news-uk-flights-china-wuhan-evacuation-cancelled-quarantine-a9309016.html'],\n",
       " ['This should also be thought about. Because those people have live and pass by wuhan china, and these countries want to bring them back to their own country We understand the concern,but of course quarantine is needed to be sure #coronavirus lets pray!Be healthy. Help everyone'],\n",
       " ['Martin Sellner fordert inzwischen ein Burkaverbot für Coronaviren! Ich sage: Das kann er haben. Wenn er ab sofort nur noch mit Aluhut auf die Straße geht und endlich Deutschland in Ruhe lässt. Er ist kein Deutscher! #coronavirus #noafd #afdabwählen #WeRemember'],\n",
       " ['Başımda dönüp duran sahne sndbdjf #coronavirus '],\n",
       " ['#CoronaVirus '],\n",
       " ['I need to stop reading about #coronavirus I’m about to have a heart attack'],\n",
       " ['@lookner 170 deaths ,170 recovered equals 50% mortality rate... #coronavirus #wuhan'],\n",
       " ['El período de incubación del #coronavirus que apareció en Wuhan, China, está en el orden de los 5,2 días en promedio, aunque puede tener variaciones en función de cada paciente. Vía AFP '],\n",
       " ['#MAPAINTERACTIVO Así está la situación mundial con el #coronavirus, te contamos cuáles países han confirmados casos y cuántas personas han sido confirmadas con el virus http://bit.ly/2U3LATc'],\n",
       " ['¿A dónde se ha extendido el coronavirus? #CORONAVIRUS #MEDICINA #CIENCIA #CHINA #ESPAÑA #ESTADOSUNIDOS #LATINOAMERICA #MEXICO #ARGENTINA #EUROPA Google Maps: usuarios crean mapa para mostrar enfermos de coronavirus https://www.milenio.com/ciencia-y-salud/coronavirus-google-maps-muestra-lugares-enfermos vía @Milenio'],\n",
       " ['We feel that the repatriation to Christmas Island, to a place where has been previously the focus of populations under enormous mental and physical trauma and anguish, is not a really appropriate solution. #coronavirus @amapresident'],\n",
       " ['#Coronavirus 170 muertos 7,711 infectados De acuerdo al último reporte de la Comisión Nacional de Salud de #China'],\n",
       " ['#nCoV2019 #coronaravirus #2019nCoV #2019_nCov #coronavirus '],\n",
       " ['Over 5900 Cases of the #Coronavirus. Just keeps spreading &amp; has surpassed SARS. The new virus has now infected more ppl in China than were sickened there during the 2002-2003 SARS outbreak. On Wed, the number of cases jumped to 5,974, surpassing the 5,327 ppl diagnosed w/ SARS'],\n",
       " ['#coronavirus '],\n",
       " ['CSIR: @healthgovau has released a fact sheet on the novel coronavirus for early childhood centres. https://www.health.gov.au/resources/publications/novel-coronavirus-2019-ncov-information-for-schools-and-early-childhood-centres #JobsAustralia #MembersFirst #CoronaVirus #FactSheet #EarlyChildhoodEducation'],\n",
       " ['Los Chinos ya metieron un mega hospital en unas horas. #Coronavirus '],\n",
       " ['Wuhan citizen plainly tells the #coronavirus situation in Wuhan &amp; seeks ... https://youtu.be/7OEqybiGdaA via @YouTube'],\n",
       " [\"Thanks @Brandon2874 and @BNODesk for your invaluable sharing of data! I've added you both to the official Daily Corona News Feed, featuring the most useful #coronavirus news and commentary - all your tweets show up here: https://bit.ly/37Er93g\"],\n",
       " ['cinesi che fingono di recensire la serie TV \"Chernobil\" per criticare cosa sta succedendo con il #coronavirus https://www.ilpost.it/2020/01/29/nuovo-coronavirus-censura-cina/ (ma mo perché è di tentenza #coronaravirus? )'],\n",
       " ['#Indonesia prepares #AirForce planes to Import #Wuhan #Coronavirus into the Country so they can get some of that juicy #WHO Money for Remediation:'],\n",
       " ['Sorry I am late to the game, but public health matters occupied most of my work day! #Coronavirus Today Bell will donate 5¢ towards #mentalhealth initiatives for each use of #BellLetsTalk.'],\n",
       " ['Mum’s back from Korea and she brought back a ridiculous amount of face masks #coronavirus '],\n",
       " ['#Coronavirus chino aumenta sin parar y se registran más de 1.700 casos en solo un día http://bit.ly/37xS9kM'],\n",
       " ['More than 200 Americans who were evacuated from Wuhan, China, because of the deadly new strain of #coronavirus cheered as their plane landed in Alaska late Tuesday. Read more: https://bit.ly/2RV7rJS'],\n",
       " ['I know that #coronavirus might looks and sounds horrific, horrible, and awful but the key of preventing the virus from entering ourselves is by washing our hands frequently using our favorite #handsoap , so #staysafe everyone and don’t forget to #washyourhands !!! '],\n",
       " ['If the risk is \"low\" why are many airlines cancelling flights to and from #China over #coronavirus? #coronovirus'],\n",
       " ['#CaraotaDigital | Período de incubación del #coronavirus dura cinco días en promedio http://bit.ly/2O9zap4'],\n",
       " ['Cónectese en pocos minutos con el especial de @Hora20: todo lo que hay que saber sobre el #Coronavirus http://bit.ly/2MGAiyo Dirige y conduce @DianaCalderonF'],\n",
       " ['#URGENTE #ACTUALIZACION #CORONAVIRUS -el numero de infectados sube a 7186 personas por el corona virus. los fallecidos sube a 169 1220 están graves. Solo 100 personas han logrado salir del coronavirus con síntomas leves. -En un solo dia hubo mas de 1000 casos de infectados. '],\n",
       " ['#Internacional | Asciende a 169 la cifra de personas fallecidas por #Coronavirus en China. @GiovanniCelisS'],\n",
       " ['Chinese Nat\\'l Arrested Smuggling US Bio-Research Vials Into China & Trump\\'s \"Peace\" Deal Rejected https://youtu.be/5d21t5ft6R0 #Coronavirus #Biowarfare #China #Harvard #LieOfTheCentury #DealOfTheCentury #Iran #Syria #Yemen #CDC #WHO #USForeignPolicy #TheDailyWrapUp'],\n",
       " ['Bitmesine 2 gün kala,Ocak ayının özeti. Güzel güzel gel e mi tatlı Şubat,sen üzme bari #earthquakes #fires #accidents #coronavirus #enough #welcomingFebruary #hope'],\n",
       " ['#NSTworld #Britain working on flight home for citizens in #coronavirus-hit Wuhan '],\n",
       " [\"You ain't an ally of POC if you only speak up if it's convenient or if it helps your clout the silence is deafening. Very telling. #JeNeSuisPasUnVirus #Germany #coronavirusdeutschland #coronavirus\"]]"
      ]
     },
     "execution_count": 7,
     "metadata": {},
     "output_type": "execute_result"
    }
   ],
   "source": [
    "get_tweets('#Coronavirus',\"2020-01-01\",\"2020-01-30\")"
   ]
  },
  {
   "cell_type": "code",
   "execution_count": 9,
   "metadata": {},
   "outputs": [],
   "source": [
    "text = \"\"\n",
    "text_tweets = get_tweets('#Coronavirus',\"2020-01-01\",\"2020-01-30\")\n",
    "length = len(text_tweets)\n",
    "for i in range(0, length):\n",
    "    text = text_tweets[i][0] + \" \" + text\n",
    "# converting to lowercase\n",
    "lower_case = text.lower()\n",
    "# Removing punctuations\n",
    "cleaned_text = lower_case.translate(str.maketrans('', '', string.punctuation))\n",
    "# splitting text into words\n",
    "tokenized_words = cleaned_text.split()"
   ]
  },
  {
   "cell_type": "code",
   "execution_count": 10,
   "metadata": {},
   "outputs": [],
   "source": [
    "# Removing stop words from the tokenized words list\n",
    "final_words = [word for word in tokenized_words if word not in stop_words]"
   ]
  },
  {
   "cell_type": "code",
   "execution_count": 11,
   "metadata": {},
   "outputs": [
    {
     "name": "stdout",
     "output_type": "stream",
     "text": [
      "Counter({' fearful': 3, ' attracted': 2, ' surprise': 2, ' sad': 2, ' alone': 2, ' entitled': 2, ' average': 1, ' happy': 1, ' free': 1, ' esteemed': 1, ' anxious': 1, ' hated': 1})\n"
     ]
    }
   ],
   "source": [
    "# Emotion words\n",
    "emotion_list = []\n",
    "with open('emotions1.txt', 'r') as file:\n",
    "    for line in file:\n",
    "        clear_line = line.replace('\\n', '').replace(',', '').replace(\"'\", '').strip()\n",
    "        word, emotion = clear_line.split(':')\n",
    "        if word in final_words:\n",
    "            emotion_list.append(emotion)\n",
    "\n",
    "w = Counter(emotion_list)\n",
    "print(w)"
   ]
  },
  {
   "cell_type": "code",
   "execution_count": 12,
   "metadata": {},
   "outputs": [
    {
     "data": {
      "image/png": "[encoded data removed]",
      "text/plain": [
       "<Figure size 432x288 with 1 Axes>"
      ]
     },
     "metadata": {
      "needs_background": "light"
     },
     "output_type": "display_data"
    }
   ],
   "source": [
    "fig, ax1 = plt.subplots()\n",
    "ax1.bar(w.keys(), w.values())\n",
    "fig.autofmt_xdate()\n",
    "plt.show()"
   ]
  },
  {
   "cell_type": "markdown",
   "metadata": {},
   "source": [
    "# Now getting Hashtags data after outbreak of Corona around the world in May 2020"
   ]
  },
  {
   "cell_type": "code",
   "execution_count": 17,
   "metadata": {},
   "outputs": [],
   "source": [
    "text = \"\"\n",
    "text_tweets1 = get_tweets('#Coronavirus',\"2020-05-01\",\"2020-05-30\")\n",
    "length = len(text_tweets1)\n",
    "for i in range(0, length):\n",
    "    text = text_tweets1[i][0] + \" \" + text\n",
    "# converting to lowercase\n",
    "lower_case = text.lower()\n",
    "# Removing punctuations\n",
    "cleaned_text = lower_case.translate(str.maketrans('', '', string.punctuation))\n",
    "# splitting text into words\n",
    "tokenized_words = cleaned_text.split()"
   ]
  },
  {
   "cell_type": "code",
   "execution_count": 18,
   "metadata": {},
   "outputs": [],
   "source": [
    "# Removing stop words from the tokenized words list\n",
    "final_words = [word for word in tokenized_words if word not in stop_words]"
   ]
  },
  {
   "cell_type": "code",
   "execution_count": 19,
   "metadata": {},
   "outputs": [
    {
     "name": "stdout",
     "output_type": "stream",
     "text": [
      "Counter({' powerless': 3, ' sad': 2, ' free': 1, ' hated': 1, ' lost': 1, ' attracted': 1, ' fearful': 1, ' happy': 1})\n"
     ]
    }
   ],
   "source": [
    "# Emotion words\n",
    "emotion_list = []\n",
    "with open('emotions1.txt', 'r') as file:\n",
    "    for line in file:\n",
    "        clear_line = line.replace('\\n', '').replace(',', '').replace(\"'\", '').strip()\n",
    "        word, emotion = clear_line.split(':')\n",
    "        if word in final_words:\n",
    "            emotion_list.append(emotion)\n",
    "\n",
    "x= Counter(emotion_list)\n",
    "print(x)"
   ]
  },
  {
   "cell_type": "code",
   "execution_count": 20,
   "metadata": {},
   "outputs": [
    {
     "data": {
      "image/png": "[encoded data removed]",
      "text/plain": [
       "<Figure size 432x288 with 1 Axes>"
      ]
     },
     "metadata": {
      "needs_background": "light"
     },
     "output_type": "display_data"
    }
   ],
   "source": [
    "fig, ax1 = plt.subplots()\n",
    "ax1.bar(x.keys(), x.values())\n",
    "fig.autofmt_xdate()\n",
    "plt.show()"
   ]
  },
  {
   "cell_type": "code",
   "execution_count": null,
   "metadata": {},
   "outputs": [],
   "source": []
  }
 ],
 "metadata": {
  "kernelspec": {
   "display_name": "Python 3",
   "language": "python",
   "name": "python3"
  },
  "language_info": {
   "codemirror_mode": {
    "name": "ipython",
    "version": 3
   },
   "file_extension": ".py",
   "mimetype": "text/x-python",
   "name": "python",
   "nbconvert_exporter": "python",
   "pygments_lexer": "ipython3",
   "version": "3.7.4"
  }
 },
 "nbformat": 4,
 "nbformat_minor": 4
}
