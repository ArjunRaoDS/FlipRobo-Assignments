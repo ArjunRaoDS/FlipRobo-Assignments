{
 "cells": [
  {
   "cell_type": "markdown",
   "metadata": {},
   "source": [
    "                 ************* Arjun Yadav, DataTrained Batch no-1817******************"
   ]
  },
  {
   "cell_type": "markdown",
   "metadata": {},
   "source": [
    "**1.\tHow to print sum of the numbers starting from 1 to 100?**"
   ]
  },
  {
   "cell_type": "code",
   "execution_count": 2,
   "metadata": {},
   "outputs": [
    {
     "name": "stdout",
     "output_type": "stream",
     "text": [
      "Sum is:  5050\n"
     ]
    }
   ],
   "source": [
    "sum = 0\n",
    "for num in range(1,101):\n",
    "    sum += num\n",
    "print(\"Sum is: \", sum )"
   ]
  },
  {
   "cell_type": "markdown",
   "metadata": {},
   "source": [
    "**2.\tCan you write a program to find the average of numbers in a list in Python?**"
   ]
  },
  {
   "cell_type": "code",
   "execution_count": 3,
   "metadata": {},
   "outputs": [
    {
     "name": "stdout",
     "output_type": "stream",
     "text": [
      "Average is:  5.0\n"
     ]
    }
   ],
   "source": [
    "sum=0\n",
    "list=[2,4,6,8]\n",
    "for i in list:\n",
    "    sum += i\n",
    "average = sum/len(list)\n",
    "print(\"Average is: \", average )"
   ]
  },
  {
   "cell_type": "markdown",
   "metadata": {},
   "source": [
    "**3.\tWrite a program to reverse a number in Python?**"
   ]
  },
  {
   "cell_type": "code",
   "execution_count": 4,
   "metadata": {},
   "outputs": [
    {
     "name": "stdout",
     "output_type": "stream",
     "text": [
      " Enter any Number: 1234\n",
      "\n",
      " Reverse of the number is = 4321\n"
     ]
    }
   ],
   "source": [
    "Num = int(input(\" Enter any Number: \"))\n",
    "Rev = 0\n",
    "while(Num > 0):\n",
    "    Rem = Num %10\n",
    "    Rev = (Rev *10) + Rem\n",
    "    Num = Num //10\n",
    "\n",
    "print(\"\\n Reverse of the number is = %d\" %Rev)"
   ]
  },
  {
   "cell_type": "markdown",
   "metadata": {},
   "source": [
    "**4.\tWrite a program to find the sum of the digits of a number in Python?**"
   ]
  },
  {
   "cell_type": "code",
   "execution_count": 5,
   "metadata": {},
   "outputs": [
    {
     "name": "stdout",
     "output_type": "stream",
     "text": [
      "Sum of digit is:  9\n"
     ]
    }
   ],
   "source": [
    "sum=0\n",
    "num=234\n",
    "for i in str(num):\n",
    "    sum += int(i)\n",
    "print(\"Sum of digit is: \", sum )"
   ]
  },
  {
   "cell_type": "markdown",
   "metadata": {},
   "source": [
    "**5.\tWrite a Python Program to Check if a Number is a Palindrome or not?**"
   ]
  },
  {
   "cell_type": "markdown",
   "metadata": {},
   "source": [
    "A number is said to be a palindrome if its reverse is same as the original number"
   ]
  },
  {
   "cell_type": "code",
   "execution_count": 6,
   "metadata": {},
   "outputs": [
    {
     "name": "stdout",
     "output_type": "stream",
     "text": [
      "Enter any Number: 1221\n",
      "Number is palindrome\n"
     ]
    }
   ],
   "source": [
    "num = int(input(\"Enter any Number: \"))\n",
    "temp=num\n",
    "rev = 0\n",
    "while(temp > 0):\n",
    "    rem = temp %10\n",
    "    rev = (rev *10) + rem\n",
    "    temp = temp //10\n",
    "if num==rev:\n",
    "    print(\"Number is palindrome\")\n",
    "else:\n",
    "    print(\"Number is not palindrome\")"
   ]
  },
  {
   "cell_type": "markdown",
   "metadata": {},
   "source": [
    "**6.Write a Python Program to Count the Number of Digits in a Number?**"
   ]
  },
  {
   "cell_type": "code",
   "execution_count": 7,
   "metadata": {},
   "outputs": [
    {
     "name": "stdout",
     "output_type": "stream",
     "text": [
      "Enter a numer \n",
      "12345\n",
      "Number of digits are: 5\n"
     ]
    }
   ],
   "source": [
    "num = int(input(\"Enter a numer \\n\"))\n",
    "count = 0\n",
    "while num>0:\n",
    "    count +=1\n",
    "    num = num//10;\n",
    "    \n",
    "print(\"Number of digits are: %d\"%count)"
   ]
  },
  {
   "cell_type": "markdown",
   "metadata": {},
   "source": [
    "**7.Write a Python Program to Print Table of a Given Number?**"
   ]
  },
  {
   "cell_type": "code",
   "execution_count": 8,
   "metadata": {},
   "outputs": [
    {
     "name": "stdout",
     "output_type": "stream",
     "text": [
      "Enter a number \n",
      "5\n",
      "5  X  1  =  5\n",
      "5  X  2  =  10\n",
      "5  X  3  =  15\n",
      "5  X  4  =  20\n",
      "5  X  5  =  25\n",
      "5  X  6  =  30\n",
      "5  X  7  =  35\n",
      "5  X  8  =  40\n",
      "5  X  9  =  45\n",
      "5  X  10  =  50\n"
     ]
    }
   ],
   "source": [
    "num = int(input(\"Enter a number \\n\"))\n",
    "for i in range(1,11):\n",
    "    tab=num*i\n",
    "    print(num,\" X \",i,\" = \",tab)"
   ]
  },
  {
   "cell_type": "markdown",
   "metadata": {},
   "source": [
    "**8.Write a Python Program to Check if a Number is a Prime Number?**"
   ]
  },
  {
   "cell_type": "markdown",
   "metadata": {},
   "source": [
    "A number is said to be a prime if its divided by 1 or itself"
   ]
  },
  {
   "cell_type": "code",
   "execution_count": 9,
   "metadata": {},
   "outputs": [
    {
     "name": "stdout",
     "output_type": "stream",
     "text": [
      "Enter the number 8\n",
      "Number is not prime\n"
     ]
    }
   ],
   "source": [
    "num=int(input(\"Enter the number \"))\n",
    "if num>=1:\n",
    "    for i in range(2,num):\n",
    "        if num%i==0:\n",
    "            print(\"Number is not prime\")\n",
    "            break\n",
    "    else:\n",
    "        print(\"Number is prime\")"
   ]
  },
  {
   "cell_type": "markdown",
   "metadata": {},
   "source": [
    "**9.Write a Python Program to Check if a Number is an Armstrong Number?**"
   ]
  },
  {
   "cell_type": "markdown",
   "metadata": {},
   "source": [
    "If the given number is equal to the sum of the Nth power of each digit present in that number, then that number is saod tp be an Armstrong Number. "
   ]
  },
  {
   "cell_type": "code",
   "execution_count": 10,
   "metadata": {},
   "outputs": [
    {
     "name": "stdout",
     "output_type": "stream",
     "text": [
      "Enter any number: 370\n",
      "\n",
      " 370 is an Armstrong Number.\n",
      "\n"
     ]
    }
   ],
   "source": [
    "num = int(input(\"Enter any number: \"))\n",
    "sum = 0\n",
    "count = 0\n",
    "temp = num\n",
    "while temp > 0:\n",
    "    count += 1\n",
    "    temp=temp//10;\n",
    "temp = num\n",
    "while temp > 0:\n",
    "    rem=temp%10\n",
    "    sum=sum+(rem**count)\n",
    "    temp=temp//10\n",
    "         \n",
    "if num == sum:\n",
    "    print(\"\\n %d is an Armstrong Number.\\n\" %num)\n",
    "else:\n",
    "    print(\"\\n %d is Not an Armstrong Number.\\n\" %num)"
   ]
  },
  {
   "cell_type": "markdown",
   "metadata": {},
   "source": [
    "**10.Write a Python Program to Check if a Number is a Perfect Number?**"
   ]
  },
  {
   "cell_type": "markdown",
   "metadata": {},
   "source": [
    "A perfect number is a positive integer that is equal to the sum of its proper positive divisors."
   ]
  },
  {
   "cell_type": "code",
   "execution_count": 11,
   "metadata": {},
   "outputs": [
    {
     "name": "stdout",
     "output_type": "stream",
     "text": [
      "Enter any number : 28\n",
      "28 is a Perfect number \n"
     ]
    }
   ],
   "source": [
    "num = int(input(\"Enter any number : \"))\n",
    "sum=0\n",
    "for i in range (1,num):\n",
    "    if num%i==0:\n",
    "        sum +=i\n",
    "        \n",
    "if sum==num:\n",
    "    print(\"%d is a Perfect number \" %num)\n",
    "else:\n",
    "    print(\"%d is not a Perfect number \" %num)\n",
    "    "
   ]
  },
  {
   "cell_type": "markdown",
   "metadata": {},
   "source": [
    "**11.Write a Python Program to Check if a Number is a Strong Number?**"
   ]
  },
  {
   "cell_type": "markdown",
   "metadata": {},
   "source": [
    " A strong number is a number in which the sum of the factorial of the digits is equal to the number itself."
   ]
  },
  {
   "cell_type": "code",
   "execution_count": 8,
   "metadata": {},
   "outputs": [
    {
     "name": "stdout",
     "output_type": "stream",
     "text": [
      "Enter the number : 145\n",
      "The number is a strong number\n"
     ]
    }
   ],
   "source": [
    "num = int(input(\"Enter the number : \"))\n",
    "sum = 0\n",
    "temp = num\n",
    "while (temp>0):\n",
    "    i = 1\n",
    "    fact = 1\n",
    "    rem =temp%10\n",
    "    while(i <= rem):\n",
    "        fact = fact*i\n",
    "        i += 1\n",
    "    sum += fact\n",
    "    temp =temp // 10\n",
    "if sum==num:\n",
    "    print(\"The number is a strong number\")\n",
    "else:\n",
    "    print(\"The number is not a strong number\")"
   ]
  },
  {
   "cell_type": "markdown",
   "metadata": {},
   "source": [
    "**12.Write a Python Program to Find the Second Largest Number in a List?**"
   ]
  },
  {
   "cell_type": "code",
   "execution_count": 13,
   "metadata": {},
   "outputs": [
    {
     "name": "stdout",
     "output_type": "stream",
     "text": [
      "Please enter the Total Number of List Elements: 5\n",
      "Please enter the Value of 1 Element : 2\n",
      "Please enter the Value of 2 Element : 4\n",
      "Please enter the Value of 3 Element : 6\n",
      "Please enter the Value of 4 Element : 8\n",
      "Please enter the Value of 5 Element : 9\n",
      "The Second largest Element in this List is :  8\n"
     ]
    }
   ],
   "source": [
    "list = []\n",
    "num = int(input(\"Please enter the Total Number of List Elements: \"))\n",
    "for i in range(1, num + 1):\n",
    "    value = int(input(\"Please enter the Value of %d Element : \" %i))\n",
    "    list.append(value)\n",
    "\n",
    "list.sort()\n",
    "\n",
    "print(\"The Second largest Element in this List is : \", list[-2])"
   ]
  },
  {
   "cell_type": "markdown",
   "metadata": {},
   "source": [
    "**13.Write a Python Program to Swap the First and Last Value of a List?**"
   ]
  },
  {
   "cell_type": "code",
   "execution_count": 15,
   "metadata": {},
   "outputs": [
    {
     "name": "stdout",
     "output_type": "stream",
     "text": [
      "Please enter the Total Number of List Elements: 5\n",
      "Please enter the Value of 1 Element : 1\n",
      "Please enter the Value of 2 Element : 2\n",
      "Please enter the Value of 3 Element : 3\n",
      "Please enter the Value of 4 Element : 4\n",
      "Please enter the Value of 5 Element : 5\n",
      "Original list is:  [1, 2, 3, 4, 5]\n",
      "New List is:  [5, 2, 3, 4, 1]\n"
     ]
    }
   ],
   "source": [
    "list = []\n",
    "num = int(input(\"Please enter the Total Number of List Elements: \"))\n",
    "for i in range(1, num + 1):\n",
    "    value = int(input(\"Please enter the Value of %d Element : \" %i))\n",
    "    list.append(value)\n",
    "print(\"Original list is: \",list)\n",
    "temp=list[0]\n",
    "list[0]=list[num-1]\n",
    "list[num-1]=temp\n",
    "print(\"New List is: \",list)"
   ]
  },
  {
   "cell_type": "markdown",
   "metadata": {},
   "source": [
    "**14.Write a Python Program to Check if a String is a Palindrome or Not?**"
   ]
  },
  {
   "cell_type": "code",
   "execution_count": 16,
   "metadata": {},
   "outputs": [
    {
     "name": "stdout",
     "output_type": "stream",
     "text": [
      "Enter the string: madam\n",
      "String is Palindrome\n"
     ]
    }
   ],
   "source": [
    "string=str(input(\"Enter the string: \"))\n",
    "if string==string[::-1]:\n",
    "    print(\"String is Palindrome\")\n",
    "else:\n",
    "    print(\"String is not Palindrome\")"
   ]
  },
  {
   "cell_type": "markdown",
   "metadata": {},
   "source": [
    "**15.Write a Python Program to Count the Number of Vowels in a String**"
   ]
  },
  {
   "cell_type": "code",
   "execution_count": 9,
   "metadata": {},
   "outputs": [
    {
     "name": "stdout",
     "output_type": "stream",
     "text": [
      "Enter the string: Arjun\n",
      "Numbers of Vowels in string is:  2\n"
     ]
    }
   ],
   "source": [
    "string=str(input(\"Enter the string: \"))\n",
    "vowels='aeiouAEIOU'\n",
    "count=0\n",
    "for i in string:\n",
    "    if i in vowels:\n",
    "        count+=1\n",
    "print(\"Numbers of Vowels in string is: \",count)"
   ]
  },
  {
   "cell_type": "markdown",
   "metadata": {},
   "source": [
    "**16.Write a Python Program to Check Common Letters in Two Input Strings?**"
   ]
  },
  {
   "cell_type": "code",
   "execution_count": 1,
   "metadata": {},
   "outputs": [
    {
     "name": "stdout",
     "output_type": "stream",
     "text": [
      "Enter first string: Hello\n",
      "Enter second string: How are you\n",
      "Common Letters are:\n",
      "H\n",
      "e\n",
      "o\n"
     ]
    }
   ],
   "source": [
    "string1=input(\"Enter first string: \")\n",
    "string2=input(\"Enter second string: \")\n",
    "com=set(string1) & set(string2)\n",
    "print(\"Common Letters are:\")\n",
    "for i in com:\n",
    "    print(i)"
   ]
  },
  {
   "cell_type": "markdown",
   "metadata": {},
   "source": [
    "**17.Write a program to design a calculator with below requirement.**\n",
    "\n",
    "**a.\tIt should ask the user name.\n",
    "b.\tUser should enter the value.\n",
    "c.\tUser can select any command like add, multiply, divide, Subtraction.\n",
    "d.\tIt should perform the operation selected & gives the output.\n",
    "e.\tThe program should not be terminated without user permission.**\n"
   ]
  },
  {
   "cell_type": "code",
   "execution_count": 4,
   "metadata": {},
   "outputs": [
    {
     "name": "stdout",
     "output_type": "stream",
     "text": [
      "Please enter your user name: Arjun\n",
      "Enter Value1: 20\n",
      "Enter Value2: 5\n",
      "Select opertaion: \n",
      "A: for additon, M: for multiplication, D: for division, S: for subtraction A\n",
      "Result is: 25\n",
      "Do you want to continue(y/n)y\n",
      "Please enter your user name: Yadav\n",
      "Enter Value1: 25\n",
      "Enter Value2: 5\n",
      "Select opertaion: \n",
      "A: for additon, M: for multiplication, D: for division, S: for subtraction D\n",
      "Result is: 5.0\n",
      "Do you want to continue(y/n)n\n"
     ]
    }
   ],
   "source": [
    "while True:\n",
    "    name=input(\"Please enter your user name: \")\n",
    "    val1=int(input(\"Enter Value1: \"))\n",
    "    val2=int(input(\"Enter Value2: \"))\n",
    "    print(\"Select opertaion: \")\n",
    "    cmd=input(\"A: for additon, M: for multiplication, D: for division, S: for subtraction \")\n",
    "    if cmd==\"A\":\n",
    "        result=val1+val2\n",
    "    if cmd==\"M\":\n",
    "        result=val1*val2\n",
    "    if cmd==\"D\":\n",
    "        result=val1/val2\n",
    "    if cmd==\"S\":\n",
    "        result=val1-val2\n",
    "         \n",
    "    print(\"Result is:\" ,result)\n",
    "    if input('Do you want to continue(y/n)') == 'n':\n",
    "        break"
   ]
  },
  {
   "cell_type": "code",
   "execution_count": null,
   "metadata": {},
   "outputs": [],
   "source": []
  }
 ],
 "metadata": {
  "kernelspec": {
   "display_name": "Python 3",
   "language": "python",
   "name": "python3"
  },
  "language_info": {
   "codemirror_mode": {
    "name": "ipython",
    "version": 3
   },
   "file_extension": ".py",
   "mimetype": "text/x-python",
   "name": "python",
   "nbconvert_exporter": "python",
   "pygments_lexer": "ipython3",
   "version": "3.6.10"
  }
 },
 "nbformat": 4,
 "nbformat_minor": 2
}
